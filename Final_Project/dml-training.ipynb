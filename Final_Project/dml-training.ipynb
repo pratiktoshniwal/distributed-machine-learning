{
 "cells": [
  {
   "cell_type": "code",
   "execution_count": 48,
   "metadata": {},
   "outputs": [],
   "source": [
    "import os\n",
    "import time\n",
    "import numpy as np\n",
    "import sagemaker\n",
    "import tqdm\n",
    "\n",
    "sagemaker_session = sagemaker.Session()\n",
    "role = sagemaker.get_execution_role()\n",
    "\n",
    "bucket_name = 'cloud-csce678-dml-bucket'\n",
    "jobs_folder    = 'jobs'"
   ]
  },
  {
   "cell_type": "code",
   "execution_count": 49,
   "metadata": {},
   "outputs": [
    {
     "name": "stdout",
     "output_type": "stream",
     "text": [
      "Distributed training with a total of 4 workers: 2 instances of ml.m4.xlarge\n",
      "2 GPU(s) per instance\n"
     ]
    }
   ],
   "source": [
    "hvd_instance_type = 'ml.m4.xlarge'\n",
    "hvd_instance_count = 2\n",
    "hvd_processes_per_host = 2\n",
    "\n",
    "print(f'Distributed training with a total of {hvd_processes_per_host*hvd_instance_count} workers: {hvd_instance_count} instances of {hvd_instance_type}')\n",
    "print(f'{hvd_processes_per_host} GPU(s) per instance')"
   ]
  },
  {
   "cell_type": "code",
   "execution_count": 50,
   "metadata": {},
   "outputs": [],
   "source": [
    "job_name   = f'tf-horovod-resnet50-{hvd_instance_count}x{hvd_processes_per_host}-workers-{time.strftime(\"%Y-%m-%d-%H-%M-%S-%j\", time.gmtime())}'\n",
    "output_path = f's3://{bucket_name}/{jobs_folder}'\n",
    "tboard_logs = f's3://{bucket_name}/tensorboard_logs/{job_name}'\n",
    "\n",
    "metric_definitions = [{'Name': 'val_acc', 'Regex': 'val_acc: ([0-9\\\\.]+)'}]\n",
    "\n",
    "hyperparameters = {'epochs': 100, \n",
    "                   'learning-rate': 0.001,\n",
    "                   'momentum': 0.9,\n",
    "                   'weight-decay': 2e-4,\n",
    "                   'optimizer': 'adam',\n",
    "                   'batch-size' : 256}\n",
    "\n",
    "sm_config       = {'tensorboard_logs': tboard_logs}\n",
    "\n",
    "hyperparameters.update(sm_config)"
   ]
  },
  {
   "cell_type": "code",
   "execution_count": 51,
   "metadata": {},
   "outputs": [
    {
     "name": "stdout",
     "output_type": "stream",
     "text": [
      "{'epochs': 100, 'learning-rate': 0.001, 'momentum': 0.9, 'weight-decay': 0.0002, 'optimizer': 'adam', 'batch-size': 256, 'tensorboard_logs': 's3://cloud-csce678-dml-bucket/tensorboard_logs/tf-horovod-resnet50-2x2-workers-2020-04-25-03-47-07-116'}\n"
     ]
    }
   ],
   "source": [
    "print(hyperparameters)"
   ]
  },
  {
   "cell_type": "code",
   "execution_count": 52,
   "metadata": {},
   "outputs": [],
   "source": [
    "\n",
    "distributions = {\n",
    "                 'mpi': {\n",
    "                          'enabled'           : True,\n",
    "                          'processes_per_host': hvd_processes_per_host,\n",
    "                          'custom_mpi_options': '-verbose --NCCL_DEBUG=INFO -x OMPI_MCA_btl_vader_single_copy_mechanism=none'\n",
    "                        }\n",
    "                }\n"
   ]
  },
  {
   "cell_type": "code",
   "execution_count": 53,
   "metadata": {},
   "outputs": [],
   "source": [
    "from sagemaker.tensorflow import TensorFlow\n",
    "hvd_estimator = TensorFlow(entry_point          = 'csce678_project.py', \n",
    "                           source_dir           = 'code',\n",
    "                           output_path          = output_path + '/',\n",
    "                           code_location        = output_path,\n",
    "                           role                 = role,\n",
    "                           train_instance_count = hvd_instance_count, \n",
    "                           train_instance_type  = hvd_instance_type,\n",
    "                           train_volume_size    = 50,\n",
    "                           framework_version    = '1.15', \n",
    "                           py_version           = 'py3',\n",
    "                           script_mode          = True,\n",
    "                           metric_definitions   = metric_definitions,\n",
    "                           hyperparameters      = hyperparameters,\n",
    "                           distributions        = distributions)"
   ]
  },
  {
   "cell_type": "code",
   "execution_count": 54,
   "metadata": {},
   "outputs": [],
   "source": [
    "train_path = f's3://{bucket_name}/fruit_dataset/train'\n",
    "val_path   = f's3://{bucket_name}/fruit_dataset/validation'\n",
    "eval_path  = f's3://{bucket_name}/fruit_dataset/eval'\n",
    "\n",
    "hvd_estimator.fit({'train': train_path,'validation': val_path,'eval': eval_path}, \n",
    "                  job_name=job_name, wait=False)"
   ]
  },
  {
   "cell_type": "code",
   "execution_count": 11,
   "metadata": {},
   "outputs": [
    {
     "data": {
      "text/plain": [
       "UserCode(s3_prefix='s3://cloud-csce678-dml-bucket/jobs/tf-horovod-resnet50-1x2-workers-2020-04-23-03-15-56-114/source/sourcedir.tar.gz', script_name='csce678_project.py')"
      ]
     },
     "execution_count": 11,
     "metadata": {},
     "output_type": "execute_result"
    }
   ],
   "source": [
    "hvd_estimator.uploaded_code"
   ]
  },
  {
   "cell_type": "code",
   "execution_count": 55,
   "metadata": {},
   "outputs": [
    {
     "name": "stdout",
     "output_type": "stream",
     "text": [
      "WARNING:tensorflow:From /home/ec2-user/anaconda3/envs/tensorflow_p36/lib/python3.6/site-packages/tensorflow_core/__init__.py:1467: The name tf.estimator.inputs is deprecated. Please use tf.compat.v1.estimator.inputs instead.\n",
      "\n",
      "TensorBoard 1.15.0 at http://ip-172-16-59-129:6006/ (Press CTRL+C to quit)\n",
      "W0425 04:08:08.489317 139914187458304 plugin_event_multiplexer.py:250] Deleting accumulator 'tf-horovod-resnet50-1x2-workers-2020-04-23-03-07-35-114'\n",
      "W0425 04:08:08.490341 139914187458304 plugin_event_multiplexer.py:250] Deleting accumulator 'tf-horovod-resnet50-2x2-workers-2020-04-25-03-24-32-116'\n",
      "W0425 04:08:08.490427 139914187458304 plugin_event_multiplexer.py:250] Deleting accumulator 'tf-horovod-resnet50-2x2-workers-2020-04-25-02-51-35-116'\n",
      "W0425 04:08:08.490502 139914187458304 plugin_event_multiplexer.py:250] Deleting accumulator 'tf-horovod-resnet50-1x2-workers-2020-04-23-03-15-56-114'\n",
      "W0425 04:08:08.490571 139914187458304 plugin_event_multiplexer.py:250] Deleting accumulator 'tf-horovod-resnet50-2x2-workers-2020-04-23-03-27-05-114'\n",
      "W0425 04:08:08.490638 139914187458304 plugin_event_multiplexer.py:250] Deleting accumulator 'tf-horovod-resnet50-2x2-workers-2020-04-25-03-05-42-116'\n",
      "^C\n"
     ]
    }
   ],
   "source": [
    "!S3_REGION=us-east-2 tensorboard --logdir s3://{bucket_name}/tensorboard_logs/"
   ]
  },
  {
   "cell_type": "code",
   "execution_count": null,
   "metadata": {},
   "outputs": [],
   "source": [
    "import os "
   ]
  },
  {
   "cell_type": "code",
   "execution_count": null,
   "metadata": {},
   "outputs": [],
   "source": [
    "apple_dir_names = ['Apple/A', 'Apple/B', 'Apple/C']\n",
    "guava_dir_names = []\n",
    "kiwi_dir_names = []\n",
    "\n",
    "def get_filenames_from_directory_list(directory_list):\n",
    "    paths = []\n",
    "    for directory in directory_list:\n",
    "        paths.extend(os.listdir(directory))\n",
    "    return paths\n",
    "\n",
    "apple_paths = get_filenames_from_directory_list(apple_dir_names)\n",
    "guava_paths = get_filenames_from_directory_list(guava_dir_names)\n",
    "kiwi_paths = get_filenames_from_directory_list(kiwi_dir_names)"
   ]
  },
  {
   "cell_type": "code",
   "execution_count": null,
   "metadata": {},
   "outputs": [],
   "source": []
  }
 ],
 "metadata": {
  "kernelspec": {
   "display_name": "conda_tensorflow_p36",
   "language": "python",
   "name": "conda_tensorflow_p36"
  },
  "language_info": {
   "codemirror_mode": {
    "name": "ipython",
    "version": 3
   },
   "file_extension": ".py",
   "mimetype": "text/x-python",
   "name": "python",
   "nbconvert_exporter": "python",
   "pygments_lexer": "ipython3",
   "version": "3.6.6"
  }
 },
 "nbformat": 4,
 "nbformat_minor": 4
}
